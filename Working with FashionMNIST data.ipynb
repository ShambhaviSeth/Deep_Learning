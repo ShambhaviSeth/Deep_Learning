{
  "nbformat": 4,
  "nbformat_minor": 0,
  "metadata": {
    "colab": {
      "provenance": []
    },
    "kernelspec": {
      "name": "python3",
      "display_name": "Python 3"
    },
    "language_info": {
      "name": "python"
    }
  },
  "cells": [
    {
      "cell_type": "markdown",
      "source": [
        "3. (3 points) Improving the FashionMNIST classifier. In the first demo, we trained a simple logistic regression model to classify MNIST digits. Repeat the same experiment, but now use a (dense) neural network with three (3) hidden layers with 256, 128, and 64 neurons respectively, all with ReLU activations. Display train- and test- loss curves, and report test accuracies of your final model. You may have to tweak the total number of training epochs to get reasonable accuracy. Finally, draw any 3 image samples from the test dataset, visualize the predicted class probabilities for each sample, and comment on what you can observe from these plots.\n",
        "\n",
        "Solution-"
      ],
      "metadata": {
        "id": "J1spAV4CdWJh"
      }
    },
    {
      "cell_type": "code",
      "execution_count": null,
      "metadata": {
        "id": "TtcILGrausjW"
      },
      "outputs": [],
      "source": [
        "import numpy as np\n",
        "import torch\n",
        "import torchvision"
      ]
    },
    {
      "cell_type": "code",
      "source": [
        "#Getting the FashionMNIST dataset\n",
        "trainingdata = torchvision.datasets.FashionMNIST('./FashionMNIST/',train=True,download=True,transform=torchvision.transforms.ToTensor())\n",
        "testdata = torchvision.datasets.FashionMNIST('./FashionMNIST/',train=False,download=True,transform=torchvision.transforms.ToTensor())"
      ],
      "metadata": {
        "colab": {
          "base_uri": "https://localhost:8080/"
        },
        "id": "aj_7GuG5uuXc",
        "outputId": "9e12e257-e06c-49aa-d01e-5a798ed56770"
      },
      "execution_count": null,
      "outputs": [
        {
          "output_type": "stream",
          "name": "stdout",
          "text": [
            "Downloading http://fashion-mnist.s3-website.eu-central-1.amazonaws.com/train-images-idx3-ubyte.gz\n",
            "Downloading http://fashion-mnist.s3-website.eu-central-1.amazonaws.com/train-images-idx3-ubyte.gz to ./FashionMNIST/FashionMNIST/raw/train-images-idx3-ubyte.gz\n"
          ]
        },
        {
          "output_type": "stream",
          "name": "stderr",
          "text": [
            "100%|██████████| 26421880/26421880 [00:01<00:00, 17350500.90it/s]\n"
          ]
        },
        {
          "output_type": "stream",
          "name": "stdout",
          "text": [
            "Extracting ./FashionMNIST/FashionMNIST/raw/train-images-idx3-ubyte.gz to ./FashionMNIST/FashionMNIST/raw\n",
            "\n",
            "Downloading http://fashion-mnist.s3-website.eu-central-1.amazonaws.com/train-labels-idx1-ubyte.gz\n",
            "Downloading http://fashion-mnist.s3-website.eu-central-1.amazonaws.com/train-labels-idx1-ubyte.gz to ./FashionMNIST/FashionMNIST/raw/train-labels-idx1-ubyte.gz\n"
          ]
        },
        {
          "output_type": "stream",
          "name": "stderr",
          "text": [
            "100%|██████████| 29515/29515 [00:00<00:00, 302463.25it/s]\n"
          ]
        },
        {
          "output_type": "stream",
          "name": "stdout",
          "text": [
            "Extracting ./FashionMNIST/FashionMNIST/raw/train-labels-idx1-ubyte.gz to ./FashionMNIST/FashionMNIST/raw\n",
            "\n",
            "Downloading http://fashion-mnist.s3-website.eu-central-1.amazonaws.com/t10k-images-idx3-ubyte.gz\n",
            "Downloading http://fashion-mnist.s3-website.eu-central-1.amazonaws.com/t10k-images-idx3-ubyte.gz to ./FashionMNIST/FashionMNIST/raw/t10k-images-idx3-ubyte.gz\n"
          ]
        },
        {
          "output_type": "stream",
          "name": "stderr",
          "text": [
            "100%|██████████| 4422102/4422102 [00:00<00:00, 5523979.69it/s]\n"
          ]
        },
        {
          "output_type": "stream",
          "name": "stdout",
          "text": [
            "Extracting ./FashionMNIST/FashionMNIST/raw/t10k-images-idx3-ubyte.gz to ./FashionMNIST/FashionMNIST/raw\n",
            "\n",
            "Downloading http://fashion-mnist.s3-website.eu-central-1.amazonaws.com/t10k-labels-idx1-ubyte.gz\n",
            "Downloading http://fashion-mnist.s3-website.eu-central-1.amazonaws.com/t10k-labels-idx1-ubyte.gz to ./FashionMNIST/FashionMNIST/raw/t10k-labels-idx1-ubyte.gz\n"
          ]
        },
        {
          "output_type": "stream",
          "name": "stderr",
          "text": [
            "100%|██████████| 5148/5148 [00:00<00:00, 13614298.23it/s]"
          ]
        },
        {
          "output_type": "stream",
          "name": "stdout",
          "text": [
            "Extracting ./FashionMNIST/FashionMNIST/raw/t10k-labels-idx1-ubyte.gz to ./FashionMNIST/FashionMNIST/raw\n",
            "\n"
          ]
        },
        {
          "output_type": "stream",
          "name": "stderr",
          "text": [
            "\n"
          ]
        }
      ]
    },
    {
      "cell_type": "code",
      "source": [
        "print(len(trainingdata))\n",
        "print(len(testdata))"
      ],
      "metadata": {
        "colab": {
          "base_uri": "https://localhost:8080/"
        },
        "id": "tKkYnkdAuzwp",
        "outputId": "b5af1775-beaf-4d14-ef29-87490a58d765"
      },
      "execution_count": null,
      "outputs": [
        {
          "output_type": "stream",
          "name": "stdout",
          "text": [
            "60000\n",
            "10000\n"
          ]
        }
      ]
    },
    {
      "cell_type": "code",
      "source": [
        "image, label = trainingdata[0]\n",
        "print(image.shape, label)"
      ],
      "metadata": {
        "colab": {
          "base_uri": "https://localhost:8080/"
        },
        "id": "Kl5zRSspu1r0",
        "outputId": "5a5c62ed-c03d-4d25-fbcc-f93dae647306"
      },
      "execution_count": null,
      "outputs": [
        {
          "output_type": "stream",
          "name": "stdout",
          "text": [
            "torch.Size([1, 28, 28]) 9\n"
          ]
        }
      ]
    },
    {
      "cell_type": "code",
      "source": [
        "#Checking the data\n",
        "print(image.squeeze().shape)\n",
        "import matplotlib.pyplot as plt\n",
        "%matplotlib inline\n",
        "plt.imshow(image.squeeze(), cmap=plt.cm.gray)"
      ],
      "metadata": {
        "colab": {
          "base_uri": "https://localhost:8080/",
          "height": 464
        },
        "id": "zqEZONCqu4Cp",
        "outputId": "93163ddd-7f9c-4988-af1e-a746fc7273a2"
      },
      "execution_count": null,
      "outputs": [
        {
          "output_type": "stream",
          "name": "stdout",
          "text": [
            "torch.Size([28, 28])\n"
          ]
        },
        {
          "output_type": "execute_result",
          "data": {
            "text/plain": [
              "<matplotlib.image.AxesImage at 0x7dac5cdfc520>"
            ]
          },
          "metadata": {},
          "execution_count": 5
        },
        {
          "output_type": "display_data",
          "data": {
            "text/plain": [
              "<Figure size 640x480 with 1 Axes>"
            ],
            "image/png": "[encoded data removed]"
          },
          "metadata": {}
        }
      ]
    },
    {
      "cell_type": "code",
      "source": [
        "#Loading the data using DataLoader in order to make it efficient\n",
        "trainDataLoader = torch.utils.data.DataLoader(trainingdata,batch_size=64,shuffle=True)\n",
        "testDataLoader = torch.utils.data.DataLoader(testdata,batch_size=64,shuffle=False)"
      ],
      "metadata": {
        "id": "ZwWyy5TQu9mV"
      },
      "execution_count": null,
      "outputs": []
    },
    {
      "cell_type": "code",
      "source": [
        "#Verifying the length of the loaded data\n",
        "print(len(trainDataLoader) * 64) # batch_size from above\n",
        "print(len(testDataLoader) * 64)"
      ],
      "metadata": {
        "colab": {
          "base_uri": "https://localhost:8080/"
        },
        "id": "M_WSRZfYvF3U",
        "outputId": "aceaeda9-f06a-4603-8529-1247d68ea16a"
      },
      "execution_count": null,
      "outputs": [
        {
          "output_type": "stream",
          "name": "stdout",
          "text": [
            "60032\n",
            "10048\n"
          ]
        }
      ]
    },
    {
      "cell_type": "code",
      "source": [
        "#Checking how the data looks like\n",
        "images, labels = next(iter(trainDataLoader))\n",
        "\n",
        "plt.figure(figsize=(10,4))\n",
        "for index in np.arange(0,5):\n",
        "  plt.subplot(1,5,index+1)\n",
        "  plt.title(f'Label: {labels[index].item()}')\n",
        "  plt.imshow(images[index].squeeze(),cmap=plt.cm.gray)"
      ],
      "metadata": {
        "colab": {
          "base_uri": "https://localhost:8080/",
          "height": 216
        },
        "id": "PTUtluN3vmrn",
        "outputId": "b0a2fb7d-61e3-4740-a5d2-61d8e4803532"
      },
      "execution_count": null,
      "outputs": [
        {
          "output_type": "display_data",
          "data": {
            "text/plain": [
              "<Figure size 1000x400 with 5 Axes>"
            ],
            "image/png": "[encoded data removed]"
          },
          "metadata": {}
        }
      ]
    },
    {
      "cell_type": "code",
      "source": [
        "# Checking for availability of CPU or CUDA\n",
        "device=torch.device('cuda' if torch.cuda.is_available() else 'cpu')\n",
        "print('Using device:', device)\n",
        "torch.cuda.is_available()\n",
        "image=image.to(device)\n",
        "print(\"image\",image.is_cuda)"
      ],
      "metadata": {
        "colab": {
          "base_uri": "https://localhost:8080/"
        },
        "id": "R3QMyOWRvvOU",
        "outputId": "7225638a-db57-4216-ba39-6a8bb201e982"
      },
      "execution_count": null,
      "outputs": [
        {
          "output_type": "stream",
          "name": "stdout",
          "text": [
            "Using device: cpu\n",
            "image False\n"
          ]
        }
      ]
    },
    {
      "cell_type": "markdown",
      "source": [
        "The above print statement shows that we have CPU available and would hence run on that."
      ],
      "metadata": {
        "id": "KZ7pSQBftffG"
      }
    },
    {
      "cell_type": "markdown",
      "source": [
        "We have to create a neural network with 256, 128, and 64 neurons respectively, all with ReLU activations. Therefore ur network has different layers - first hidden layer has 256 nodes and is connected to the second hidden layer which has 128 nodes which is further connected to a hidden layer with 64 nodes. Relu is used as the activation function for the hidden layers. The last layer is the output layer which has 10 nodes that represent the 10 class labels."
      ],
      "metadata": {
        "id": "YN_ItvjFt6KA"
      }
    },
    {
      "cell_type": "code",
      "source": [
        "#Defining the neural network\n",
        "class NeuralNetwork(torch.nn.Module):\n",
        "    def __init__(self):\n",
        "        super().__init__()\n",
        "        #Flattening the 28*28 image into tensor of length 784\n",
        "        self.flatten = torch.nn.Flatten()\n",
        "        # Creating the layers of the neural network\n",
        "        self.linear_relu_stack = torch.nn.Sequential(\n",
        "            torch.nn.Linear(784, 256),\n",
        "            torch.nn.ReLU(),\n",
        "            torch.nn.Linear(256, 128),\n",
        "            torch.nn.ReLU(),\n",
        "            torch.nn.Linear(128, 64),\n",
        "            torch.nn.ReLU(),\n",
        "            torch.nn.Linear(64, 10)\n",
        "        )\n",
        "\n",
        "    def forward(self, x):\n",
        "        x = self.flatten(x)\n",
        "        logits = self.linear_relu_stack(x)\n",
        "        return logits"
      ],
      "metadata": {
        "id": "Dxw5Y8uvvGKr"
      },
      "execution_count": null,
      "outputs": []
    },
    {
      "cell_type": "markdown",
      "source": [
        "The 3 step recipe is -\n",
        "1. Representation - it is a neural network\n",
        "2. Measure of goodness - we are using the cross entropy loss function as we have categorical variables\n",
        "3. Optimizing the model - we are using SGD optimizer with a learning rate of 0.01"
      ],
      "metadata": {
        "id": "XfKZ-kHBvv9Y"
      }
    },
    {
      "cell_type": "code",
      "source": [
        "model = NeuralNetwork().to(device) # Representation\n",
        "loss=torch.nn.CrossEntropyLoss() #2. Measure of goodness\n",
        "optimizer=torch.optim.SGD(model.parameters(),lr=0.01) #3.Optimizing the model\n",
        "print(model)\n",
        "print(loss)"
      ],
      "metadata": {
        "colab": {
          "base_uri": "https://localhost:8080/"
        },
        "id": "fx8BfRmFxq3K",
        "outputId": "3bdf7a35-45f5-46cb-e473-b3af2052b568"
      },
      "execution_count": null,
      "outputs": [
        {
          "output_type": "stream",
          "name": "stdout",
          "text": [
            "NeuralNetwork(\n",
            "  (flatten): Flatten(start_dim=1, end_dim=-1)\n",
            "  (linear_relu_stack): Sequential(\n",
            "    (0): Linear(in_features=784, out_features=256, bias=True)\n",
            "    (1): ReLU()\n",
            "    (2): Linear(in_features=256, out_features=128, bias=True)\n",
            "    (3): ReLU()\n",
            "    (4): Linear(in_features=128, out_features=64, bias=True)\n",
            "    (5): ReLU()\n",
            "    (6): Linear(in_features=64, out_features=10, bias=True)\n",
            "  )\n",
            ")\n",
            "CrossEntropyLoss()\n"
          ]
        }
      ]
    },
    {
      "cell_type": "code",
      "source": [
        "train_loss_history = []\n",
        "test_loss_history = []\n",
        "\n",
        "# training the model for 20 epochs\n",
        "for epoch in range(20):\n",
        "  train_loss = 0.0\n",
        "  test_loss = 0.0\n",
        "\n",
        "  model.train()\n",
        "  for i, data in enumerate(trainDataLoader):\n",
        "    images, labels = data\n",
        "    images=images.cpu()\n",
        "    labels=labels.cpu()\n",
        "    optimizer.zero_grad() # zero out any gradient values from the previous iteration\n",
        "    predicted_output = model(images) # forward propagation\n",
        "    fit = loss(predicted_output, labels)  # calculate our measure of goodness\n",
        "    fit.backward() # backpropagation\n",
        "    optimizer.step() # update the weights of our trainable parameters\n",
        "    train_loss += fit.item()\n",
        "\n",
        "  model.eval()\n",
        "  for i, data in enumerate(testDataLoader):\n",
        "    with torch.no_grad():\n",
        "      images, labels = data\n",
        "      images=images.cpu()\n",
        "      labels=labels.cpu()\n",
        "      predicted_output = model(images)\n",
        "      fit = loss(predicted_output, labels)\n",
        "      test_loss += fit.item()\n",
        "  train_loss = train_loss / len(trainDataLoader)\n",
        "  test_loss = test_loss / len(testDataLoader)\n",
        "  train_loss_history += [train_loss]\n",
        "  test_loss_history += [test_loss]\n",
        "  print(f'Epoch {epoch}, Train loss {train_loss}, Test loss {test_loss}')"
      ],
      "metadata": {
        "colab": {
          "base_uri": "https://localhost:8080/"
        },
        "id": "-c-9zRUfvJdg",
        "outputId": "2962a088-45e4-46e6-a97c-ba02ce5f684d"
      },
      "execution_count": null,
      "outputs": [
        {
          "output_type": "stream",
          "name": "stdout",
          "text": [
            "Epoch 0, Train loss 1.7819251995096836, Test loss 1.0261874035665184\n",
            "Epoch 1, Train loss 0.8129061895138674, Test loss 0.7497557033399108\n",
            "Epoch 2, Train loss 0.6646442640501299, Test loss 0.6391484593130221\n",
            "Epoch 3, Train loss 0.5935777638639722, Test loss 0.6811564689988543\n",
            "Epoch 4, Train loss 0.5482979146148096, Test loss 0.565602210107123\n",
            "Epoch 5, Train loss 0.5170701298632348, Test loss 0.5388425007747237\n",
            "Epoch 6, Train loss 0.49565904925881166, Test loss 0.5121295626755733\n",
            "Epoch 7, Train loss 0.4738062710237147, Test loss 0.5379782387405444\n",
            "Epoch 8, Train loss 0.4582294791714469, Test loss 0.48369779565911386\n",
            "Epoch 9, Train loss 0.4429047410485587, Test loss 0.4738432527727382\n",
            "Epoch 10, Train loss 0.4305858701499286, Test loss 0.4714879361307545\n",
            "Epoch 11, Train loss 0.418352536031051, Test loss 0.4740946687710513\n",
            "Epoch 12, Train loss 0.40847969174321525, Test loss 0.4429735034514385\n",
            "Epoch 13, Train loss 0.3981113229860375, Test loss 0.4316815262197689\n",
            "Epoch 14, Train loss 0.38911121696043116, Test loss 0.4400212998223153\n",
            "Epoch 15, Train loss 0.3791961253706072, Test loss 0.4107440999548906\n",
            "Epoch 16, Train loss 0.3710171215887517, Test loss 0.40075994458547826\n",
            "Epoch 17, Train loss 0.36329754233868644, Test loss 0.4125317935920825\n",
            "Epoch 18, Train loss 0.3549458852359481, Test loss 0.4223640187151113\n",
            "Epoch 19, Train loss 0.34882848755097084, Test loss 0.3991674111717066\n"
          ]
        }
      ]
    },
    {
      "cell_type": "code",
      "source": [
        "# plot for loss vs epoch for train and test data\n",
        "plt.plot(range(20),train_loss_history,'-',linewidth=3,label='Train error')\n",
        "plt.plot(range(20),test_loss_history,'-',linewidth=3,label='Test error')\n",
        "plt.xlabel('epoch')\n",
        "plt.ylabel('loss')\n",
        "plt.grid(True)\n",
        "plt.legend()\n",
        "plt.show()"
      ],
      "metadata": {
        "colab": {
          "base_uri": "https://localhost:8080/",
          "height": 449
        },
        "id": "c-5msrjAvPCi",
        "outputId": "05488803-5a11-481b-95ee-e5a020cfecb9"
      },
      "execution_count": null,
      "outputs": [
        {
          "output_type": "display_data",
          "data": {
            "text/plain": [
              "<Figure size 640x480 with 1 Axes>"
            ],
            "image/png": "[encoded data removed]"
          },
          "metadata": {}
        }
      ]
    },
    {
      "cell_type": "code",
      "source": [
        "#Establishing comparison for a small sample dataset\n",
        "predicted_outputs = model(images)\n",
        "predicted_classes = torch.max(predicted_outputs, 1)[1]\n",
        "print('Predicted:', predicted_classes)\n",
        "fit = loss(predicted_output, labels)\n",
        "print('True labels:', labels)\n",
        "print(fit.item())"
      ],
      "metadata": {
        "colab": {
          "base_uri": "https://localhost:8080/"
        },
        "id": "qlUDo18PvRlp",
        "outputId": "884c202e-8ed1-4863-92f9-3f132495f199"
      },
      "execution_count": null,
      "outputs": [
        {
          "output_type": "stream",
          "name": "stdout",
          "text": [
            "Predicted: tensor([3, 1, 7, 5, 8, 4, 5, 6, 8, 9, 1, 9, 1, 8, 1, 5])\n",
            "True labels: tensor([3, 2, 7, 5, 8, 4, 5, 6, 8, 9, 1, 9, 1, 8, 1, 5])\n",
            "0.1585426926612854\n"
          ]
        }
      ]
    },
    {
      "cell_type": "code",
      "source": [
        "for i in range(3):\n",
        "  plt.figure(figsize=(10,4))\n",
        "  index = np.random.randint(1, 16)\n",
        "  plt.title(f'Predicted: {predicted_classes[index].item()}, True:{labels[index].item()}')\n",
        "  plt.imshow(images[index].squeeze().cpu(), cmap = plt.cm.gray)\n"
      ],
      "metadata": {
        "colab": {
          "base_uri": "https://localhost:8080/",
          "height": 1000
        },
        "id": "XVl7U5KcvRip",
        "outputId": "04008ebc-013d-4254-8172-528ed32ddab4"
      },
      "execution_count": null,
      "outputs": [
        {
          "output_type": "display_data",
          "data": {
            "text/plain": [
              "<Figure size 1000x400 with 1 Axes>"
            ],
            "image/png": "[encoded data removed]"
          },
          "metadata": {}
        },
        {
          "output_type": "display_data",
          "data": {
            "text/plain": [
              "<Figure size 1000x400 with 1 Axes>"
            ],
            "image/png": "[encoded data removed]"
          },
          "metadata": {}
        },
        {
          "output_type": "display_data",
          "data": {
            "text/plain": [
              "<Figure size 1000x400 with 1 Axes>"
            ],
            "image/png": "[encoded data removed]"
          },
          "metadata": {}
        }
      ]
    },
    {
      "cell_type": "markdown",
      "source": [
        "The above image samples show that the model is predicting correct labels as the predicted and true labels are same."
      ],
      "metadata": {
        "id": "FIVD2apJwqNV"
      }
    },
    {
      "cell_type": "code",
      "source": [
        "#COunting the correct predicted samples\n",
        "correct=0\n",
        "correct+=(predicted_classes==labels).float().sum()\n",
        "print(correct)"
      ],
      "metadata": {
        "colab": {
          "base_uri": "https://localhost:8080/"
        },
        "id": "FZjjNgO2zr0u",
        "outputId": "655ef3cb-e0b5-47a3-a50f-3794746233f0"
      },
      "execution_count": null,
      "outputs": [
        {
          "output_type": "stream",
          "name": "stdout",
          "text": [
            "tensor(15.)\n"
          ]
        }
      ]
    },
    {
      "cell_type": "code",
      "source": [
        "# Calculating model accuracy\n",
        "accuracy=correct/images.shape[0]"
      ],
      "metadata": {
        "id": "m8TnQoaH0Qlj"
      },
      "execution_count": null,
      "outputs": []
    },
    {
      "cell_type": "code",
      "source": [
        "print(accuracy)"
      ],
      "metadata": {
        "colab": {
          "base_uri": "https://localhost:8080/"
        },
        "id": "whcflyud0T-Z",
        "outputId": "a1541f4c-c0f4-4907-8088-82402d88c0a7"
      },
      "execution_count": null,
      "outputs": [
        {
          "output_type": "stream",
          "name": "stdout",
          "text": [
            "tensor(0.9375)\n"
          ]
        }
      ]
    },
    {
      "cell_type": "markdown",
      "source": [
        "Model has an accuracy of 93.75% which means it is making correct predictions for most of the samples."
      ],
      "metadata": {
        "id": "uzadBtE6w0LA"
      }
    }
  ]
}